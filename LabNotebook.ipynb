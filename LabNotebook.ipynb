{
 "cells": [
  {
   "cell_type": "code",
   "execution_count": 8,
   "id": "a076d45b-cb19-4de2-bf72-bb3e20479148",
   "metadata": {
    "tags": []
   },
   "outputs": [],
   "source": [
    "import pandas as pd\n",
    "import numpy as np\n",
    "import matplotlib.pyplot as plt"
   ]
  },
  {
   "cell_type": "code",
   "execution_count": 9,
   "id": "a96fd9cb-627d-4bc4-ae7f-d97771ee9766",
   "metadata": {
    "tags": []
   },
   "outputs": [],
   "source": [
    "files = ['Americium_0degrees_200s_CdTe_uncal.mca','Americium_90degrees_200s_CdTe_uncal.mca',\n",
    "         'Cesium_0degrees_600s_CdTe_uncal.mca', 'Barium_0degrees_300s_CdTe_uncal.mca', 'Cobalt_0degrees_600s_CdTe_uncal.mca']\n",
    "background = pd.read_csv(\"CdTe\\Background_0degrees_600s_CdTe.mca\",\n",
    "                   header=11, skipfooter=73 , names=['counts'], encoding= \"ISO-8859-1\", engine='python')\n",
    "data=[]\n",
    "for i in range(5):\n",
    "    data.append(pd.read_csv(f\"CdTe/{files[i]}\",\n",
    "                   header=11, skipfooter=73, names=['counts'], encoding= \"ISO-8859-1\", engine='python'))"
   ]
  },
  {
   "cell_type": "code",
   "execution_count": 10,
   "id": "60618712-37dd-4a0b-a8e3-c214f3aac75f",
   "metadata": {
    "tags": []
   },
   "outputs": [
    {
     "data": {
      "text/html": [
       "<div>\n",
       "<style scoped>\n",
       "    .dataframe tbody tr th:only-of-type {\n",
       "        vertical-align: middle;\n",
       "    }\n",
       "\n",
       "    .dataframe tbody tr th {\n",
       "        vertical-align: top;\n",
       "    }\n",
       "\n",
       "    .dataframe thead th {\n",
       "        text-align: right;\n",
       "    }\n",
       "</style>\n",
       "<table border=\"1\" class=\"dataframe\">\n",
       "  <thead>\n",
       "    <tr style=\"text-align: right;\">\n",
       "      <th></th>\n",
       "      <th>counts</th>\n",
       "    </tr>\n",
       "  </thead>\n",
       "  <tbody>\n",
       "    <tr>\n",
       "      <th>0</th>\n",
       "      <td>0</td>\n",
       "    </tr>\n",
       "    <tr>\n",
       "      <th>1</th>\n",
       "      <td>0</td>\n",
       "    </tr>\n",
       "    <tr>\n",
       "      <th>2</th>\n",
       "      <td>0</td>\n",
       "    </tr>\n",
       "    <tr>\n",
       "      <th>3</th>\n",
       "      <td>0</td>\n",
       "    </tr>\n",
       "    <tr>\n",
       "      <th>4</th>\n",
       "      <td>0</td>\n",
       "    </tr>\n",
       "    <tr>\n",
       "      <th>...</th>\n",
       "      <td>...</td>\n",
       "    </tr>\n",
       "    <tr>\n",
       "      <th>2043</th>\n",
       "      <td>0</td>\n",
       "    </tr>\n",
       "    <tr>\n",
       "      <th>2044</th>\n",
       "      <td>0</td>\n",
       "    </tr>\n",
       "    <tr>\n",
       "      <th>2045</th>\n",
       "      <td>0</td>\n",
       "    </tr>\n",
       "    <tr>\n",
       "      <th>2046</th>\n",
       "      <td>0</td>\n",
       "    </tr>\n",
       "    <tr>\n",
       "      <th>2047</th>\n",
       "      <td>0</td>\n",
       "    </tr>\n",
       "  </tbody>\n",
       "</table>\n",
       "<p>2048 rows × 1 columns</p>\n",
       "</div>"
      ],
      "text/plain": [
       "      counts\n",
       "0          0\n",
       "1          0\n",
       "2          0\n",
       "3          0\n",
       "4          0\n",
       "...      ...\n",
       "2043       0\n",
       "2044       0\n",
       "2045       0\n",
       "2046       0\n",
       "2047       0\n",
       "\n",
       "[2048 rows x 1 columns]"
      ]
     },
     "execution_count": 10,
     "metadata": {},
     "output_type": "execute_result"
    }
   ],
   "source": [
    "data[4]"
   ]
  },
  {
   "cell_type": "code",
   "execution_count": 11,
   "id": "cea1d3c8-ad50-4bdb-b546-930ee24e1dff",
   "metadata": {
    "tags": []
   },
   "outputs": [
    {
     "data": {
      "text/plain": [
       "array([   1,    2,    3, ..., 2046, 2047, 2048])"
      ]
     },
     "execution_count": 11,
     "metadata": {},
     "output_type": "execute_result"
    }
   ],
   "source": [
    "channels = np.arange(1,2049)\n",
    "channels"
   ]
  },
  {
   "cell_type": "code",
   "execution_count": 12,
   "id": "7f7367f2-06e2-444b-bc02-42999a0c3f87",
   "metadata": {
    "tags": []
   },
   "outputs": [],
   "source": [
    "#this code is not too important, just finds the channels that recive counts in background,\n",
    "#used for making sure that background was removed properly\n",
    "l=[]\n",
    "d=[]\n",
    "for i,x in enumerate(background['counts']):\n",
    "    if x>0:\n",
    "        l.append(i)"
   ]
  },
  {
   "cell_type": "code",
   "execution_count": 13,
   "id": "bbd9cb29-4265-4ad0-b3ac-75f88383dd6e",
   "metadata": {
    "tags": []
   },
   "outputs": [],
   "source": [
    "#this will remove background counts, /3 because of time difference (need to account for different times)\n",
    "#should find a way to make sure that there are no values below 0 counts|\n",
    "dataCorr = data[0]['counts']-background['counts']/3"
   ]
  },
  {
   "cell_type": "code",
   "execution_count": 17,
   "id": "3d7581a3-1e94-401a-9aba-6dae57d9f532",
   "metadata": {
    "tags": []
   },
   "outputs": [
    {
     "data": {
      "image/png": "[encoded data removed]",
      "text/plain": [
       "<Figure size 640x480 with 1 Axes>"
      ]
     },
     "metadata": {},
     "output_type": "display_data"
    }
   ],
   "source": [
    "plt.plot(channels,dataCorr);\n",
    "plt.show()"
   ]
  }
 ],
 "metadata": {
  "kernelspec": {
   "display_name": "Python 3 (ipykernel)",
   "language": "python",
   "name": "python3"
  },
  "language_info": {
   "codemirror_mode": {
    "name": "ipython",
    "version": 3
   },
   "file_extension": ".py",
   "mimetype": "text/x-python",
   "name": "python",
   "nbconvert_exporter": "python",
   "pygments_lexer": "ipython3",
   "version": "3.11.5"
  }
 },
 "nbformat": 4,
 "nbformat_minor": 5
}
