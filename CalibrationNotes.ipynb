{
 "cells": [
  {
   "cell_type": "code",
   "execution_count": 1,
   "id": "0345b9d6-d845-4bb0-8026-9680f8474b6e",
   "metadata": {
    "tags": []
   },
   "outputs": [],
   "source": [
    "import matplotlib.pyplot as plt\n",
    "import argparse\n",
    "import SpecPlot\n",
    "import scipy.optimize as opt\n",
    "import numpy as np"
   ]
  },
  {
   "cell_type": "code",
   "execution_count": 2,
   "id": "2362aa88-6b43-4b11-996a-c4b2317faa45",
   "metadata": {
    "tags": []
   },
   "outputs": [],
   "source": [
    "def arg_parser():\n",
    "    parser = argparse.ArgumentParser()\n",
    "    parser.add_argument(\"config\", type=str, help=\"Enter the name or directory of the config file, check ConfigTemplate.txt for formatting\")\n",
    "    return parser.parse_args()\n"
   ]
  },
  {
   "cell_type": "code",
   "execution_count": 3,
   "id": "0be6b5ef-7454-4f22-ba71-1a7f56c1edce",
   "metadata": {
    "tags": []
   },
   "outputs": [],
   "source": [
    "def read_config(fname):\n",
    "#reads each line of config file an prepares it for sorting\n",
    "    file = open(fname,'r')\n",
    "    lines = file.readlines()\n",
    "    lines = [line.strip() for line in lines]\n",
    "#data from config is first stored in lists so that a dictionary of varying length can be made    \n",
    "    names = []\n",
    "    files = []\n",
    "    times = []\n",
    "    for line in lines:\n",
    "        if line.startswith('NAME'):\n",
    "            names.append(line.split()[1])\n",
    "        if line.startswith('FILE'):\n",
    "            files.append(line.split()[1])\n",
    "            test = line\n",
    "        if line.startswith('TIME'):\n",
    "            times.append(line.split()[1])\n",
    "#background data stored for correction\n",
    "        if line.startswith('BGFILE'):\n",
    "            bg_data, null = SpecPlot.read_file(line.split()[1])\n",
    "        if line.startswith('BGTIME'):\n",
    "            bg_time = int(line.split()[1])\n",
    "            \n",
    "#dictionary for basic source data (name {file dir,time of measurment})\n",
    "    dic = {}\n",
    "    for n, f, t in zip(names, files, times):\n",
    "        i = names.index(n)\n",
    "        dic[n]={'File':f, 'Time':int(t)}\n",
    "        \n",
    "#ROI data needs to be handeled a bit differently, stored in another nested dictionary\n",
    "    roi = {}\n",
    "\n",
    "    for i in range(len(names)):\n",
    "        roi[names[i]]={}\n",
    "        for line in lines:\n",
    "            if line.startswith(f'S{i+1}ROI'):\n",
    "                j = line.split()\n",
    "                L = [int(j[2]),int(j[3])]\n",
    "                g = [int(j[5]),int(j[6]),int(j[7]),1,1,1]\n",
    "                roi[names[i]][j[1]]={'Limits':L, 'Guess':g}\n",
    "            if line.startswith(f'S{i+1}D_ROI'):\n",
    "                j = line.split()\n",
    "                L = [int(j[3]),int(j[4])]\n",
    "                g = [int(j[6]),int(j[7]),int(j[8]),int(j[9]),int(j[10]),int(j[11]),1,1,1]\n",
    "                roi[names[i]][f'{j[1]} {j[2]}']={'Limits':L, 'Guess':g}\n",
    "            if line.startswith(f'S{i+2}'):\n",
    "                break\n",
    "                \n",
    "    return dic, roi, bg_data, bg_time"
   ]
  },
  {
   "cell_type": "code",
   "execution_count": 8,
   "id": "47a1f5d2-0e06-4b42-85f0-c8c51c258d2e",
   "metadata": {
    "tags": []
   },
   "outputs": [
    {
     "data": {
      "text/plain": [
       "'Name number, 36, +9, 36, +2, 70, +31'"
      ]
     },
     "execution_count": 8,
     "metadata": {},
     "output_type": "execute_result"
    }
   ],
   "source": [
    "name = 'Name number'\n",
    "vals = ['36, +9','36, +2', '70, +31']\n",
    "out = []\n",
    "out.append(name)\n",
    "for i in vals:\n",
    "    out[0] = ', '.join([out[0], i])\n",
    "out[0]"
   ]
  },
  {
   "cell_type": "code",
   "execution_count": 5,
   "id": "045c193e-f9a2-4cb8-a117-bf81be819aa7",
   "metadata": {
    "tags": []
   },
   "outputs": [
    {
     "name": "stdout",
     "output_type": "stream",
     "text": [
      "> \u001b[1;32mc:\\users\\owner\\appdata\\local\\temp\\ipykernel_8252\\2532964131.py\u001b[0m(6)\u001b[0;36m<module>\u001b[1;34m()\u001b[0m\n",
      "\n"
     ]
    },
    {
     "name": "stdin",
     "output_type": "stream",
     "text": [
      "ipdb>  i\n"
     ]
    },
    {
     "name": "stdout",
     "output_type": "stream",
     "text": [
      "'36, +9'\n"
     ]
    },
    {
     "name": "stdin",
     "output_type": "stream",
     "text": [
      "ipdb>  out\n"
     ]
    },
    {
     "name": "stdout",
     "output_type": "stream",
     "text": [
      "['Name number']\n"
     ]
    },
    {
     "name": "stdin",
     "output_type": "stream",
     "text": [
      "ipdb>  q\n"
     ]
    }
   ],
   "source": [
    "debug"
   ]
  },
  {
   "cell_type": "code",
   "execution_count": 79,
   "id": "0646d65b-1026-471a-a58e-4808c580e715",
   "metadata": {
    "tags": []
   },
   "outputs": [],
   "source": [
    "a,b,c,d = read_config('BGO_Config.txt')\n",
    "e,ch,chs,op = peak_fit(a,b,c,d)\n",
    "#plot_calibration(e,ch,chs)\n",
    "write_data(op)"
   ]
  },
  {
   "cell_type": "code",
   "execution_count": 76,
   "id": "5791b7e4-1fde-4b3d-b0d4-a80fdd472945",
   "metadata": {
    "tags": []
   },
   "outputs": [],
   "source": [
    "def peak_fit(dic, roi, bg_data, bg_time):\n",
    "    energy = []\n",
    "    channel = []\n",
    "    optimal_values = []\n",
    "    i = 0\n",
    "    for n in roi.keys():\n",
    "        data, channels = SpecPlot.read_file(dic[n]['File'])\n",
    "        data_corr = data['counts']-bg_data['counts']*(dic[n]['Time']/bg_time)\n",
    "        for k in roi[n].keys():\n",
    "            optimal_values.append([])\n",
    "            L, g = roi[n][k]\n",
    "            b, e = roi[n][k][L]\n",
    "            if ' ' in k:\n",
    "                popt, pcov = opt.curve_fit(models[1], channels[b:e], data_corr[b:e], p0=roi[n][k][g])\n",
    "                energy.append(float(k.split()[0]))\n",
    "                energy.append(float(k.split()[1]))\n",
    "                channel.append(int(popt[0]))\n",
    "                channel.append(int(popt[3]))\n",
    "                optimal_values[i].append(f'{n} {k}')\n",
    "                for j in range(len(popt)):\n",
    "                    optimal_values[i].append(f'{popt[j]:.2f} \\u00B1 {np.sqrt(pcov[j][j]):.2f}')\n",
    "            else:\n",
    "                popt, pcov = opt.curve_fit(models[0], channels[b:e], data_corr[b:e], p0=roi[n][k][g])\n",
    "                energy.append(float(k))\n",
    "                channel.append(int(popt[0]))\n",
    "                optimal_values[i].append(f'{n} {k}')\n",
    "                for j in range(len(popt)):\n",
    "                    optimal_values[i].append(f'{popt[j]:.2f} \\u00B1 {np.sqrt(pcov[j][j]):.2f}')\n",
    "            i+=1\n",
    "                \n",
    "    return energy, channel, channels, optimal_values"
   ]
  },
  {
   "cell_type": "code",
   "execution_count": 78,
   "id": "41dbe0f0-bd34-4e2c-9860-01ad3ac5ab57",
   "metadata": {
    "tags": []
   },
   "outputs": [],
   "source": [
    "def write_data(data):\n",
    "    with open(\"CalibrationOutput.txt\", \"w\") as f:\n",
    "        for d in data:\n",
    "            print(f'{d}',file=f)"
   ]
  },
  {
   "cell_type": "code",
   "execution_count": 12,
   "id": "3b264afb-5b5b-4901-bdb2-9e7a6cdee30d",
   "metadata": {
    "tags": []
   },
   "outputs": [],
   "source": [
    "def plot_calibration(energy, channel, channels):\n",
    "    popt, pcov = opt.curve_fit(linear, channel, energy, p0=[1,1])\n",
    "    lin_y = linear(channels, popt[0],popt[1])\n",
    "    \n",
    "    plt.figure(figsize=[12,7])\n",
    "    plt.scatter(channel, energy);\n",
    "    plt.plot(channels,lin_y, c='r');"
   ]
  },
  {
   "cell_type": "code",
   "execution_count": 154,
   "id": "079fd820-34b9-4745-afe4-f5fe338b56a7",
   "metadata": {},
   "outputs": [],
   "source": [
    "#reads each line of config file an prepars it for sorting\n",
    "fname = 'CdTe_Config.txt'\n",
    "file = open(fname,'r')\n",
    "lines = file.readlines()\n",
    "lines = [line.strip() for line in lines]"
   ]
  },
  {
   "cell_type": "code",
   "execution_count": 155,
   "id": "22b4cf5b-40dd-4f3a-9e49-1490ffe1d5e5",
   "metadata": {
    "tags": []
   },
   "outputs": [],
   "source": [
    "#data from config is first stored in lists so that a dictionary of varying length can be made\n",
    "names = []\n",
    "files = []\n",
    "times = []\n",
    "for line in lines:\n",
    "    if line.startswith('NAME'):\n",
    "        names.append(line.split()[1])\n",
    "    if line.startswith('FILE'):\n",
    "        files.append(line.split()[1])\n",
    "        test = line\n",
    "    if line.startswith('TIME'):\n",
    "        times.append(line.split()[1])\n",
    "#also stores background data for removal\n",
    "    if line.startswith('BGFILE'):\n",
    "        bg_data, null = SpecPlot.read_file(line.split()[1])\n",
    "    if line.startswith('BGTIME'):\n",
    "        bg_time = int(line.split()[1])"
   ]
  },
  {
   "cell_type": "code",
   "execution_count": 156,
   "id": "4a10d737-a090-47c9-9c10-616dd1a89056",
   "metadata": {
    "tags": []
   },
   "outputs": [
    {
     "data": {
      "text/plain": [
       "{'Americium': {'File': 'CdTe\\\\Americium_0degrees_200s_CdTe_uncal.mca',\n",
       "  'Time': 200},\n",
       " 'Barium': {'File': 'CdTe\\\\Barium_0degrees_300s_CdTe_uncal.mca', 'Time': 300}}"
      ]
     },
     "execution_count": 156,
     "metadata": {},
     "output_type": "execute_result"
    }
   ],
   "source": [
    "#dictionary for basic source data (name {file dir,time of measurment})\n",
    "dic = {}\n",
    "for n, f, t in zip(names, files, times):\n",
    "    i = names.index(n)\n",
    "    dic[n]={'File':f, 'Time':int(t)}\n",
    "dic"
   ]
  },
  {
   "cell_type": "code",
   "execution_count": 7,
   "id": "65171ba4-619e-47ce-b4b3-c0032f3c44bc",
   "metadata": {
    "tags": []
   },
   "outputs": [],
   "source": [
    "#guassian combined with a second order polynomial for curve fitting peaks\n",
    "def gauss_poly_model(x,mu,sig,amp,a,b,c):\n",
    "    return (amp/(np.sqrt(2*np.pi)*sig))*(np.exp(-((x-mu)**2)/(2*sig**2))) + a*x**2 + b*x + c"
   ]
  },
  {
   "cell_type": "code",
   "execution_count": 8,
   "id": "f57097f6-61f5-497a-b0a8-6548a540832c",
   "metadata": {
    "tags": []
   },
   "outputs": [],
   "source": [
    "def gauss_gauss_poly_model(x,mu1,sig1,amp1,mu2,sig2,amp2,a,b,c):\n",
    "    return (amp1/(np.sqrt(2*np.pi)*sig1))*(np.exp(-((x-mu1)**2)/(2*sig1**2))) + (amp2/(np.sqrt(2*np.pi)*sig2))*(np.exp(-((x-mu2)**2)/(2*sig2**2)))  + a*x**2 + b*x + c"
   ]
  },
  {
   "cell_type": "code",
   "execution_count": 9,
   "id": "63b3023c-e82b-4737-a4b2-d70af93cb8c0",
   "metadata": {
    "tags": []
   },
   "outputs": [],
   "source": [
    "models = [gauss_poly_model, gauss_gauss_poly_model]\n"
   ]
  },
  {
   "cell_type": "code",
   "execution_count": 157,
   "id": "918e8100-c123-4d67-97d8-b6dc4f5ec8e5",
   "metadata": {
    "tags": []
   },
   "outputs": [
    {
     "data": {
      "text/plain": [
       "{'Americium': {'59.54': {'Limits': [348, 369], 'Guess': [355, 1, 30, 1, 1, 1]},\n",
       "  '26.34': {'Limits': [262, 295], 'Guess': [280, 5, 20, 1, 1, 1]}},\n",
       " 'Barium': {'356.01': {'Limits': [600, 630], 'Guess': [615, 5, 15, 1, 1, 1]}}}"
      ]
     },
     "execution_count": 157,
     "metadata": {},
     "output_type": "execute_result"
    }
   ],
   "source": [
    "#ROI data needs to be handeled a bit differently, with another nested dictionary\n",
    "roi = {}\n",
    "\n",
    "for i in range(len(names)):\n",
    "    roi[names[i]]={}\n",
    "    for line in lines:\n",
    "        if line.startswith(f'S{i+1}ROI'):\n",
    "            j = line.split()\n",
    "            L = [int(j[2]),int(j[3])]\n",
    "            g = [int(j[5]),int(j[6]),int(j[7]),1,1,1]\n",
    "            roi[names[i]][j[1]]={'Limits':L, 'Guess':g}\n",
    "        if line.startswith(f'S{i+1}D_ROI'):\n",
    "            j = line.split()\n",
    "            L = [int(j[3]),int(j[4])]\n",
    "            g = [int(j[6]),int(j[7]),int(j[8]),int(j[9]),int(j[10]),int(j[11]),1,1,1]\n",
    "            roi[names[i]][f'{j[1]} {j[2]}']={'Limits':L, 'Guess':g}\n",
    "        if line.startswith(f'S{i+2}'):\n",
    "            break\n",
    "roi"
   ]
  },
  {
   "cell_type": "code",
   "execution_count": 163,
   "id": "479c147c-3820-4052-9927-c26e9e620287",
   "metadata": {
    "tags": []
   },
   "outputs": [],
   "source": [
    "energy = []\n",
    "channel = []\n",
    "for n in roi.keys():\n",
    "    data, channels = SpecPlot.read_file(dic[n]['File'])\n",
    "    data_corr = data['counts']-bg_data['counts']*(dic[n]['Time']/bg_time)\n",
    "    for k in roi[n].keys():\n",
    "        L, g = roi[n][k]\n",
    "        b, e = roi[n][k][L]\n",
    "        if ' ' in k:\n",
    "            popt, pcov = opt.curve_fit(models[1], channels[b:e], data_corr[b:e], p0=roi[n][k][g])\n",
    "            energy.append(float(k.split()[0]))\n",
    "            energy.append(float(k.split()[1]))\n",
    "            channel.append(popt[0])\n",
    "            channel.append(popt[3])\n",
    "        else:\n",
    "            popt, pcov = opt.curve_fit(models[0], channels[b:e], data_corr[b:e], p0=roi[n][k][g])\n",
    "            energy.append(float(k))\n",
    "            channel.append(popt[0])            "
   ]
  },
  {
   "cell_type": "code",
   "execution_count": 52,
   "id": "eb868deb-fea1-4ec0-aeae-1cd99e78abdd",
   "metadata": {
    "tags": []
   },
   "outputs": [
    {
     "data": {
      "text/plain": [
       "[[]]"
      ]
     },
     "execution_count": 52,
     "metadata": {},
     "output_type": "execute_result"
    }
   ],
   "source": [
    "a = []\n",
    "a.append([])\n",
    "a"
   ]
  },
  {
   "cell_type": "code",
   "execution_count": 10,
   "id": "8abca2d4-b543-4298-abd1-fec5348ba7b2",
   "metadata": {
    "tags": []
   },
   "outputs": [],
   "source": [
    "def linear(x,a,b):\n",
    "    return a*x + b"
   ]
  },
  {
   "cell_type": "code",
   "execution_count": 49,
   "id": "5575e41c-d708-48ea-9a2d-a8c5cd6fdf9c",
   "metadata": {
    "tags": []
   },
   "outputs": [
    {
     "data": {
      "text/plain": [
       "['name', '27.99', '28.75']"
      ]
     },
     "execution_count": 49,
     "metadata": {},
     "output_type": "execute_result"
    }
   ],
   "source": [
    "#popt, pcov = opt.curve_fit(linear, peak_channel, energy, p0=[1,1])\n",
    "#lin_y = linear(channels, popt[0],popt[1])\n",
    "y = []\n",
    "z = [27.994, 28.754]\n",
    "y.append('name')\n",
    "for i in range(len(z)):\n",
    "    y.append(f'{z[i]:.2f}')\n",
    "    \n",
    "y"
   ]
  },
  {
   "cell_type": "code",
   "execution_count": 19,
   "id": "ea10947b-2d7e-454c-b299-5549c7a2a484",
   "metadata": {
    "tags": []
   },
   "outputs": [
    {
     "data": {
      "text/plain": [
       "'BGO_file'"
      ]
     },
     "execution_count": 19,
     "metadata": {},
     "output_type": "execute_result"
    }
   ],
   "source": [
    "st = '.\\BGO_file'\n",
    "st[2:]"
   ]
  },
  {
   "cell_type": "code",
   "execution_count": 165,
   "id": "f5054711-2540-4c72-b2db-ea6ed0774d9b",
   "metadata": {
    "tags": []
   },
   "outputs": [
    {
     "data": {
      "image/png": "[encoded data removed]",
      "text/plain": [
       "<Figure size 1200x700 with 1 Axes>"
      ]
     },
     "metadata": {},
     "output_type": "display_data"
    }
   ],
   "source": [
    "plt.figure(figsize=[12,7])\n",
    "plt.scatter(channel, energy);\n",
    "plt.plot(channels,lin_y, c='r');"
   ]
  },
  {
   "cell_type": "code",
   "execution_count": 22,
   "id": "cd39b910-ad0a-4ff8-88d2-bb1aa1e6c1c2",
   "metadata": {
    "tags": []
   },
   "outputs": [
    {
     "ename": "NameError",
     "evalue": "name 'dic' is not defined",
     "output_type": "error",
     "traceback": [
      "\u001b[1;31m---------------------------------------------------------------------------\u001b[0m",
      "\u001b[1;31mNameError\u001b[0m                                 Traceback (most recent call last)",
      "Cell \u001b[1;32mIn[22], line 1\u001b[0m\n\u001b[1;32m----> 1\u001b[0m data, channels \u001b[38;5;241m=\u001b[39m SpecPlot\u001b[38;5;241m.\u001b[39mread_file(dic[\u001b[38;5;124m'\u001b[39m\u001b[38;5;124mAmericium\u001b[39m\u001b[38;5;124m'\u001b[39m][\u001b[38;5;124m'\u001b[39m\u001b[38;5;124mFile\u001b[39m\u001b[38;5;124m'\u001b[39m])\n",
      "\u001b[1;31mNameError\u001b[0m: name 'dic' is not defined"
     ]
    }
   ],
   "source": [
    "data, channels = SpecPlot.read_file(dic['Americium']['File'])"
   ]
  },
  {
   "cell_type": "code",
   "execution_count": 150,
   "id": "2fa86a08-cb53-4f18-b84a-a0d7ebd7c984",
   "metadata": {
    "tags": []
   },
   "outputs": [],
   "source": [
    "guesses = [280, 5, 20, 1,1,1]\n",
    "b , e = roi['Americium']['26.34']['Limits']\n",
    "data_corr = data['counts']-bg_data['counts']*(dic['Americium']['Time']/bg_time)\n",
    "popt, pcov = opt.curve_fit(gauss_poly_model, channels[b:e], data_corr[b:e], p0=guesses)"
   ]
  },
  {
   "cell_type": "code",
   "execution_count": 151,
   "id": "e4b7aefe-a845-49d5-90c0-1ef88093492e",
   "metadata": {
    "tags": []
   },
   "outputs": [],
   "source": [
    "y_model = gauss_poly_model(channels[b-20:e+20], popt[0],popt[1],popt[2],popt[3],popt[4],popt[5])"
   ]
  },
  {
   "cell_type": "code",
   "execution_count": 152,
   "id": "7f032577-73d0-4827-97c5-5ad7a031c981",
   "metadata": {
    "tags": []
   },
   "outputs": [
    {
     "data": {
      "text/plain": [
       "array([ 2.79233782e+02, -2.89015562e+00, -1.61672535e+02, -1.19038033e-02,\n",
       "        6.61468155e+00, -9.15818739e+02])"
      ]
     },
     "execution_count": 152,
     "metadata": {},
     "output_type": "execute_result"
    },
    {
     "data": {
      "image/png": "[encoded data removed]",
      "text/plain": [
       "<Figure size 640x480 with 1 Axes>"
      ]
     },
     "metadata": {},
     "output_type": "display_data"
    }
   ],
   "source": [
    "plt.plot(channels[b-20:e+20], data_corr[b-20:e+20]);\n",
    "plt.plot(channels[b-20:e+20], y_model)\n",
    "popt\n",
    "#plt.plot(channels, data_corr)"
   ]
  },
  {
   "cell_type": "code",
   "execution_count": null,
   "id": "0dc3988c-0941-4d67-863a-26c680d1d7eb",
   "metadata": {},
   "outputs": [],
   "source": []
  }
 ],
 "metadata": {
  "kernelspec": {
   "display_name": "Python 3 (ipykernel)",
   "language": "python",
   "name": "python3"
  },
  "language_info": {
   "codemirror_mode": {
    "name": "ipython",
    "version": 3
   },
   "file_extension": ".py",
   "mimetype": "text/x-python",
   "name": "python",
   "nbconvert_exporter": "python",
   "pygments_lexer": "ipython3",
   "version": "3.11.5"
  }
 },
 "nbformat": 4,
 "nbformat_minor": 5
}
