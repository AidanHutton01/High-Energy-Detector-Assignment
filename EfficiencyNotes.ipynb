{
 "cells": [
  {
   "cell_type": "code",
   "execution_count": 1,
   "id": "843f100d-f127-4a9d-998d-99556cde5167",
   "metadata": {
    "tags": []
   },
   "outputs": [],
   "source": [
    "import numpy as np\n",
    "import matplotlib.pyplot as plt\n",
    "import scipy.optimize as opt\n",
    "import Calibrate\n",
    "import Resolution\n",
    "import pandas as pd"
   ]
  },
  {
   "cell_type": "code",
   "execution_count": 2,
   "id": "e488b532-c18b-4cdd-9e8e-b8709eaccab7",
   "metadata": {
    "tags": []
   },
   "outputs": [],
   "source": [
    "def arg_parser():\n",
    "    parser = argparse.ArgumentParser()\n",
    "    parser.add_argument(\"input\", type=str, help=\"Enter the name or directory of the outputted data file from Calibrate.py\")\n",
    "    parser.add_argument(\"output\", type=str, help=\"Enter the name or directory of the file that you want the resolution data to be entered into\")\n",
    "    return parser.parse_args()"
   ]
  },
  {
   "cell_type": "code",
   "execution_count": 20,
   "id": "a9d976f1-01ea-467d-a767-625926ea0e81",
   "metadata": {
    "tags": []
   },
   "outputs": [],
   "source": [
    "def get_cps(fname):\n",
    "    #reads data from Calibrate.py as in Resolution.py\n",
    "    peak_data, detec_data = Resolution.read_data(fname)\n",
    "    #double peaks are harder to evaluate so a truth array is made to remove them\n",
    "    w = [not i.endswith('D') for i in peak_data['Peak']]\n",
    "\n",
    "    tot_counts = []\n",
    "    energies = []\n",
    "    for i in peak_data[w]['Peak']:\n",
    "        energies.append(float(i.split()[1]))\n",
    "\n",
    "    x = []\n",
    "    for u,l in zip(peak_data[w]['U_lim'],peak_data[w]['L_lim']):\n",
    "        x.append(np.arange(l,u+1,1))\n",
    "    for i,mu,sig,Am,a,b,c in zip(x,peak_data[w]['Mean'],peak_data[w]['Std'],peak_data[w]['Amp'],peak_data[w]['a'],peak_data[w]['b'],peak_data[w]['c']):\n",
    "        y = Calibrate.gauss_poly_model(i,mu,sig,Am,a,b,c)\n",
    "        tot_counts.append(sum(y))\n",
    "    tot_counts\n",
    "    tot_cps = tot_counts/peak_data['Time'][w]\n",
    "    return tot_cps, energies, detec_data"
   ]
  },
  {
   "cell_type": "code",
   "execution_count": 15,
   "id": "063b976a-9a10-4da5-9a6c-cca4840d02b9",
   "metadata": {
    "tags": []
   },
   "outputs": [
    {
     "data": {
      "text/plain": [
       "(0    1414.700785\n",
       " 1     967.483506\n",
       " 2      84.673176\n",
       " 5     207.135003\n",
       " 6     294.871405\n",
       " Name: Time, dtype: float64,\n",
       "   Detector     a   a_err     b   b_err  Channels\n",
       " 0      BGO  1.93   ±0.01  7.47   ±4.00      1024)"
      ]
     },
     "execution_count": 15,
     "metadata": {},
     "output_type": "execute_result"
    }
   ],
   "source": [
    "get_cps('BGO_Output.txt')"
   ]
  },
  {
   "cell_type": "code",
   "execution_count": 26,
   "id": "e33c3e9f-e0a8-4d36-abde-056b9d5b8659",
   "metadata": {},
   "outputs": [],
   "source": [
    "def get_efficiency(cps, G, activity):\n",
    "    abs_efficiency = cps/activity\n",
    "    int_efficiency = abs_efficiency/G\n",
    "    return abs_efficiency, int_efficiency"
   ]
  },
  {
   "cell_type": "code",
   "execution_count": 59,
   "id": "5f152ffb-ddf3-49b1-bf0e-ea03790497a8",
   "metadata": {
    "tags": []
   },
   "outputs": [],
   "source": [
    "def plot_efficency(energies, abs_eff, int_eff, channels, title):\n",
    "    plt.figure(figsize=[12,8])\n",
    "    plt.subplot(2,1,1)\n",
    "    plt.scatter(energies,abs_eff)\n",
    "    plt.subplot(2,1,2)\n",
    "    plt.scatter(energies,np.log(int_eff))\n",
    "    plt.show()"
   ]
  },
  {
   "cell_type": "code",
   "execution_count": 51,
   "id": "980c5b6e-e2e2-49be-af80-4a1fecb20125",
   "metadata": {
    "tags": []
   },
   "outputs": [],
   "source": [
    "def main(fname):\n",
    "    cps, energies, detec = get_cps(fname)\n",
    "    if detec['Detector'][0] == 'BGO':\n",
    "        activity = [409891, 160352, 18946, 1032, 1032]\n",
    "        A = np.pi*(2.54**2)\n",
    "    if detec['Detector'][0] == 'NaI':\n",
    "        activity = [409891, 160352, 18946]\n",
    "        A = np.pi*(2.84**2)\n",
    "    if detec['Detector'][0] == 'CdTe':\n",
    "        activity = [409891, 409891, 18946]\n",
    "        A = 0.25\n",
    "    G = A/(4*np.pi*(15**2))\n",
    "    \n",
    "    abs_eff, int_eff = get_efficiency(cps, G, activity)\n",
    "    plot_efficency(energies,abs_eff,int_eff,detec['Channels'][0], detec['Detector'][0])"
   ]
  },
  {
   "cell_type": "code",
   "execution_count": 60,
   "id": "d47cd76c-3356-44a7-8850-456315fd6d5b",
   "metadata": {
    "tags": []
   },
   "outputs": [
    {
     "data": {
      "image/png": "[encoded data removed]",
      "text/plain": [
       "<Figure size 1200x800 with 2 Axes>"
      ]
     },
     "metadata": {},
     "output_type": "display_data"
    }
   ],
   "source": [
    "main('BGO_Output.txt')"
   ]
  }
 ],
 "metadata": {
  "kernelspec": {
   "display_name": "Python 3 (ipykernel)",
   "language": "python",
   "name": "python3"
  },
  "language_info": {
   "codemirror_mode": {
    "name": "ipython",
    "version": 3
   },
   "file_extension": ".py",
   "mimetype": "text/x-python",
   "name": "python",
   "nbconvert_exporter": "python",
   "pygments_lexer": "ipython3",
   "version": "3.11.5"
  }
 },
 "nbformat": 4,
 "nbformat_minor": 5
}
