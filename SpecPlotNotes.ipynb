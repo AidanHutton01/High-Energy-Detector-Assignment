{
 "cells": [
  {
   "cell_type": "code",
   "execution_count": 23,
   "id": "cd71431c-a998-4b59-9936-77f3d7773756",
   "metadata": {
    "tags": []
   },
   "outputs": [],
   "source": [
    "import argparse\n",
    "import pandas as pd\n",
    "import matplotlib.pyplot as plt\n",
    "import glob"
   ]
  },
  {
   "cell_type": "code",
   "execution_count": 14,
   "id": "35b8a043-7271-47aa-b422-f355612c44d1",
   "metadata": {
    "tags": []
   },
   "outputs": [],
   "source": [
    "def arg_parser():\n",
    "    parser = argparse.ArgumentParser()\n",
    "    parser.add_argument(\"fname\", type=str, help=\"Enter the file name or directory\")\n",
    "    parser.add_argument(\"--source\", type=str, help=\"Enter the name of the soure to be plotted\", default='Some Source')\n",
    "    return parser.parse_args()"
   ]
  },
  {
   "cell_type": "code",
   "execution_count": 36,
   "id": "31bef7bd-ff01-49cc-897c-f0e6a7fbaabe",
   "metadata": {},
   "outputs": [],
   "source": [
    "def read_file(fname,foot):\n",
    "    data = pd.read_csv(fname, header=11, skipfooter=foot , names=['counts'], encoding= \"ISO-8859-1\", engine='python')\n",
    "    return data"
   ]
  },
  {
   "cell_type": "code",
   "execution_count": 25,
   "id": "1edd9634-55c0-4228-9a00-3bd5fff871b6",
   "metadata": {
    "tags": []
   },
   "outputs": [],
   "source": [
    "def plot_data(x,y,title):\n",
    "    plt.xlabel('Channels Number')\n",
    "    plt.ylabel('Counts')\n",
    "    plt.title(f'Spectrum of {title}')\n",
    "    return plt.plot(x,y)"
   ]
  },
  {
   "cell_type": "code",
   "execution_count": 41,
   "id": "f6ea263d-6632-4729-9114-5c6776b2c837",
   "metadata": {
    "tags": []
   },
   "outputs": [],
   "source": [
    "def main(fname, source):\n",
    "    if '.mca' in fname:\n",
    "        foot = 73\n",
    "        channels = range(1,2049)\n",
    "    if '.Spe' in fname:\n",
    "        foot = 14\n",
    "        channels = range(1,1025)\n",
    "        \n",
    "    data = read_file(fname, foot)\n",
    "    return plot_data(channels, data['counts'], source)"
   ]
  },
  {
   "cell_type": "code",
   "execution_count": 42,
   "id": "18f2166e-a935-47c0-995a-949eb2b7ca2f",
   "metadata": {
    "tags": []
   },
   "outputs": [
    {
     "data": {
      "image/png": "[encoded data removed]",
      "text/plain": [
       "<Figure size 640x480 with 1 Axes>"
      ]
     },
     "metadata": {},
     "output_type": "display_data"
    }
   ],
   "source": [
    "#args = arg_parser()\n",
    "main('BGO\\Americium_0degrees_200s_BGO_uncal.Spe','A');"
   ]
  },
  {
   "cell_type": "code",
   "execution_count": 35,
   "id": "766bdca8-672a-4dc9-8805-64365d9718f1",
   "metadata": {
    "tags": []
   },
   "outputs": [
    {
     "data": {
      "text/html": [
       "<div>\n",
       "<style scoped>\n",
       "    .dataframe tbody tr th:only-of-type {\n",
       "        vertical-align: middle;\n",
       "    }\n",
       "\n",
       "    .dataframe tbody tr th {\n",
       "        vertical-align: top;\n",
       "    }\n",
       "\n",
       "    .dataframe thead th {\n",
       "        text-align: right;\n",
       "    }\n",
       "</style>\n",
       "<table border=\"1\" class=\"dataframe\">\n",
       "  <thead>\n",
       "    <tr style=\"text-align: right;\">\n",
       "      <th></th>\n",
       "      <th>counts</th>\n",
       "    </tr>\n",
       "  </thead>\n",
       "  <tbody>\n",
       "    <tr>\n",
       "      <th>0</th>\n",
       "      <td>0</td>\n",
       "    </tr>\n",
       "    <tr>\n",
       "      <th>1</th>\n",
       "      <td>0</td>\n",
       "    </tr>\n",
       "    <tr>\n",
       "      <th>2</th>\n",
       "      <td>0</td>\n",
       "    </tr>\n",
       "    <tr>\n",
       "      <th>3</th>\n",
       "      <td>0</td>\n",
       "    </tr>\n",
       "    <tr>\n",
       "      <th>4</th>\n",
       "      <td>0</td>\n",
       "    </tr>\n",
       "    <tr>\n",
       "      <th>...</th>\n",
       "      <td>...</td>\n",
       "    </tr>\n",
       "    <tr>\n",
       "      <th>1019</th>\n",
       "      <td>1</td>\n",
       "    </tr>\n",
       "    <tr>\n",
       "      <th>1020</th>\n",
       "      <td>0</td>\n",
       "    </tr>\n",
       "    <tr>\n",
       "      <th>1021</th>\n",
       "      <td>0</td>\n",
       "    </tr>\n",
       "    <tr>\n",
       "      <th>1022</th>\n",
       "      <td>1</td>\n",
       "    </tr>\n",
       "    <tr>\n",
       "      <th>1023</th>\n",
       "      <td>0</td>\n",
       "    </tr>\n",
       "  </tbody>\n",
       "</table>\n",
       "<p>1024 rows × 1 columns</p>\n",
       "</div>"
      ],
      "text/plain": [
       "      counts\n",
       "0          0\n",
       "1          0\n",
       "2          0\n",
       "3          0\n",
       "4          0\n",
       "...      ...\n",
       "1019       1\n",
       "1020       0\n",
       "1021       0\n",
       "1022       1\n",
       "1023       0\n",
       "\n",
       "[1024 rows x 1 columns]"
      ]
     },
     "execution_count": 35,
     "metadata": {},
     "output_type": "execute_result"
    }
   ],
   "source": [
    "pd.read_csv('BGO\\Americium_0degrees_200s_BGO_uncal.Spe', header=11, skipfooter=14 , names=['counts'], encoding= \"ISO-8859-1\", engine='python')"
   ]
  }
 ],
 "metadata": {
  "kernelspec": {
   "display_name": "Python 3 (ipykernel)",
   "language": "python",
   "name": "python3"
  },
  "language_info": {
   "codemirror_mode": {
    "name": "ipython",
    "version": 3
   },
   "file_extension": ".py",
   "mimetype": "text/x-python",
   "name": "python",
   "nbconvert_exporter": "python",
   "pygments_lexer": "ipython3",
   "version": "3.11.5"
  }
 },
 "nbformat": 4,
 "nbformat_minor": 5
}
